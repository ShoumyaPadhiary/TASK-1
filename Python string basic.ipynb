{
 "cells": [
  {
   "cell_type": "code",
   "execution_count": 2,
   "id": "c12afeb2",
   "metadata": {},
   "outputs": [],
   "source": [
    "s =\"shoumya\""
   ]
  },
  {
   "cell_type": "code",
   "execution_count": 3,
   "id": "666c9d8c",
   "metadata": {},
   "outputs": [
    {
     "data": {
      "text/plain": [
       "'shoumya'"
      ]
     },
     "execution_count": 3,
     "metadata": {},
     "output_type": "execute_result"
    }
   ],
   "source": [
    "s"
   ]
  },
  {
   "cell_type": "code",
   "execution_count": 4,
   "id": "1e6dd568",
   "metadata": {},
   "outputs": [
    {
     "data": {
      "text/plain": [
       "'aymuoh'"
      ]
     },
     "execution_count": 4,
     "metadata": {},
     "output_type": "execute_result"
    }
   ],
   "source": [
    "s[8:0:-1]"
   ]
  },
  {
   "cell_type": "code",
   "execution_count": 5,
   "id": "cfd643f7",
   "metadata": {},
   "outputs": [
    {
     "data": {
      "text/plain": [
       "'amo'"
      ]
     },
     "execution_count": 5,
     "metadata": {},
     "output_type": "execute_result"
    }
   ],
   "source": [
    "s[8:0:-2]"
   ]
  },
  {
   "cell_type": "code",
   "execution_count": 11,
   "id": "c1d9c40b",
   "metadata": {},
   "outputs": [
    {
     "data": {
      "text/plain": [
       "'shou'"
      ]
     },
     "execution_count": 11,
     "metadata": {},
     "output_type": "execute_result"
    }
   ],
   "source": [
    "s[:-3]"
   ]
  },
  {
   "cell_type": "code",
   "execution_count": 12,
   "id": "06064915",
   "metadata": {},
   "outputs": [
    {
     "data": {
      "text/plain": [
       "'ya'"
      ]
     },
     "execution_count": 12,
     "metadata": {},
     "output_type": "execute_result"
    }
   ],
   "source": [
    "s[-2:]"
   ]
  },
  {
   "cell_type": "code",
   "execution_count": 13,
   "id": "1cc5bd46",
   "metadata": {},
   "outputs": [
    {
     "data": {
      "text/plain": [
       "'shoumya'"
      ]
     },
     "execution_count": 13,
     "metadata": {},
     "output_type": "execute_result"
    }
   ],
   "source": [
    "s[::1]"
   ]
  },
  {
   "cell_type": "code",
   "execution_count": 14,
   "id": "4a4bb282",
   "metadata": {},
   "outputs": [
    {
     "data": {
      "text/plain": [
       "'shoumya'"
      ]
     },
     "execution_count": 14,
     "metadata": {},
     "output_type": "execute_result"
    }
   ],
   "source": [
    "s[0:50:1]"
   ]
  },
  {
   "cell_type": "code",
   "execution_count": 15,
   "id": "1308cda8",
   "metadata": {},
   "outputs": [
    {
     "data": {
      "text/plain": [
       "'shoum'"
      ]
     },
     "execution_count": 15,
     "metadata": {},
     "output_type": "execute_result"
    }
   ],
   "source": [
    "s[0:5:1]"
   ]
  },
  {
   "cell_type": "code",
   "execution_count": 16,
   "id": "1eebbd45",
   "metadata": {},
   "outputs": [
    {
     "data": {
      "text/plain": [
       "'aymuohs'"
      ]
     },
     "execution_count": 16,
     "metadata": {},
     "output_type": "execute_result"
    }
   ],
   "source": [
    "s[::-1]"
   ]
  },
  {
   "cell_type": "code",
   "execution_count": 18,
   "id": "0f13f548",
   "metadata": {},
   "outputs": [],
   "source": [
    "s3 = 'ineuron'"
   ]
  },
  {
   "cell_type": "code",
   "execution_count": 19,
   "id": "2bfbcd88",
   "metadata": {},
   "outputs": [
    {
     "data": {
      "text/plain": [
       "'norueni'"
      ]
     },
     "execution_count": 19,
     "metadata": {},
     "output_type": "execute_result"
    }
   ],
   "source": [
    "s3[::-1]"
   ]
  },
  {
   "cell_type": "code",
   "execution_count": 20,
   "id": "8f7790b2",
   "metadata": {},
   "outputs": [
    {
     "data": {
      "text/plain": [
       "''"
      ]
     },
     "execution_count": 20,
     "metadata": {},
     "output_type": "execute_result"
    }
   ],
   "source": [
    "s3[-2:-7:1]"
   ]
  },
  {
   "cell_type": "code",
   "execution_count": 22,
   "id": "18d7ce3b",
   "metadata": {},
   "outputs": [
    {
     "data": {
      "text/plain": [
       "'ineur'"
      ]
     },
     "execution_count": 22,
     "metadata": {},
     "output_type": "execute_result"
    }
   ],
   "source": [
    "s3[-7:-2:1]"
   ]
  },
  {
   "cell_type": "code",
   "execution_count": 23,
   "id": "862fd8e0",
   "metadata": {},
   "outputs": [
    {
     "data": {
      "text/plain": [
       "''"
      ]
     },
     "execution_count": 23,
     "metadata": {},
     "output_type": "execute_result"
    }
   ],
   "source": [
    "s[5:0]"
   ]
  },
  {
   "cell_type": "code",
   "execution_count": 28,
   "id": "a779f6aa",
   "metadata": {},
   "outputs": [
    {
     "data": {
      "text/plain": [
       "str"
      ]
     },
     "execution_count": 28,
     "metadata": {},
     "output_type": "execute_result"
    }
   ],
   "source": [
    "type(s)"
   ]
  },
  {
   "cell_type": "code",
   "execution_count": 29,
   "id": "138c752d",
   "metadata": {},
   "outputs": [
    {
     "data": {
      "text/plain": [
       "'shoumya1'"
      ]
     },
     "execution_count": 29,
     "metadata": {},
     "output_type": "execute_result"
    }
   ],
   "source": [
    "s + str(1)"
   ]
  },
  {
   "cell_type": "code",
   "execution_count": 30,
   "id": "0b38831c",
   "metadata": {},
   "outputs": [
    {
     "data": {
      "text/plain": [
       "'shoumya1'"
      ]
     },
     "execution_count": 30,
     "metadata": {},
     "output_type": "execute_result"
    }
   ],
   "source": [
    "s+\"1\""
   ]
  },
  {
   "cell_type": "code",
   "execution_count": 31,
   "id": "e84250f6",
   "metadata": {},
   "outputs": [
    {
     "data": {
      "text/plain": [
       "'shoumya1'"
      ]
     },
     "execution_count": 31,
     "metadata": {},
     "output_type": "execute_result"
    }
   ],
   "source": [
    "s+str(1)"
   ]
  },
  {
   "cell_type": "code",
   "execution_count": 32,
   "id": "d7b41705",
   "metadata": {},
   "outputs": [
    {
     "data": {
      "text/plain": [
       "'shoumya123'"
      ]
     },
     "execution_count": 32,
     "metadata": {},
     "output_type": "execute_result"
    }
   ],
   "source": [
    "\"shoumya\" + str(123)"
   ]
  },
  {
   "cell_type": "code",
   "execution_count": 33,
   "id": "36c26b1f",
   "metadata": {},
   "outputs": [
    {
     "data": {
      "text/plain": [
       "7"
      ]
     },
     "execution_count": 33,
     "metadata": {},
     "output_type": "execute_result"
    }
   ],
   "source": [
    "len(s)"
   ]
  },
  {
   "cell_type": "code",
   "execution_count": 34,
   "id": "896937f5",
   "metadata": {},
   "outputs": [
    {
     "data": {
      "text/plain": [
       "'shoumyashoumya'"
      ]
     },
     "execution_count": 34,
     "metadata": {},
     "output_type": "execute_result"
    }
   ],
   "source": [
    "s * 2"
   ]
  },
  {
   "cell_type": "code",
   "execution_count": 35,
   "id": "736b2e5e",
   "metadata": {},
   "outputs": [
    {
     "data": {
      "text/plain": [
       "'shoumyashoumyashoumyashoumya'"
      ]
     },
     "execution_count": 35,
     "metadata": {},
     "output_type": "execute_result"
    }
   ],
   "source": [
    "s*4"
   ]
  },
  {
   "cell_type": "code",
   "execution_count": 37,
   "id": "f2f421eb",
   "metadata": {},
   "outputs": [
    {
     "data": {
      "text/plain": [
       "1"
      ]
     },
     "execution_count": 37,
     "metadata": {},
     "output_type": "execute_result"
    }
   ],
   "source": [
    "s.count('s')"
   ]
  },
  {
   "cell_type": "code",
   "execution_count": 38,
   "id": "61744864",
   "metadata": {},
   "outputs": [
    {
     "data": {
      "text/plain": [
       "['sho', 'mya']"
      ]
     },
     "execution_count": 38,
     "metadata": {},
     "output_type": "execute_result"
    }
   ],
   "source": [
    "s.split('u')"
   ]
  },
  {
   "cell_type": "code",
   "execution_count": 41,
   "id": "73aa66e2",
   "metadata": {},
   "outputs": [],
   "source": [
    "sw = \"The Samsung Group[3] (or simply Samsung, stylized as SΛMSUNG) (Korean: 삼성 [samsʌŋ]) is a South Korean multinational manufacturing conglomerate headquartered in Samsung Town, Seoul, South Korea.[1] It comprises numerous affiliated businesses,[1] most of them united under the Samsung brand, and is the largest South Korean chaebol (business conglomerate). As of 2020, Samsung has the 8th highest global brand value.[4]\"\n",
    "\n"
   ]
  },
  {
   "cell_type": "code",
   "execution_count": 42,
   "id": "3aefdd77",
   "metadata": {},
   "outputs": [
    {
     "data": {
      "text/plain": [
       "'The Samsung Group[3] (or simply Samsung, stylized as SΛMSUNG) (Korean: 삼성 [samsʌŋ]) is a South Korean multinational manufacturing conglomerate headquartered in Samsung Town, Seoul, South Korea.[1] It comprises numerous affiliated businesses,[1] most of them united under the Samsung brand, and is the largest South Korean chaebol (business conglomerate). As of 2020, Samsung has the 8th highest global brand value.[4]'"
      ]
     },
     "execution_count": 42,
     "metadata": {},
     "output_type": "execute_result"
    }
   ],
   "source": [
    "sw"
   ]
  },
  {
   "cell_type": "code",
   "execution_count": 43,
   "id": "530fc116",
   "metadata": {},
   "outputs": [
    {
     "data": {
      "text/plain": [
       "['The',\n",
       " 'Samsung',\n",
       " 'Group[3]',\n",
       " '(or',\n",
       " 'simply',\n",
       " 'Samsung,',\n",
       " 'stylized',\n",
       " 'as',\n",
       " 'SΛMSUNG)',\n",
       " '(Korean:',\n",
       " '삼성',\n",
       " '[samsʌŋ])',\n",
       " 'is',\n",
       " 'a',\n",
       " 'South',\n",
       " 'Korean',\n",
       " 'multinational',\n",
       " 'manufacturing',\n",
       " 'conglomerate',\n",
       " 'headquartered',\n",
       " 'in',\n",
       " 'Samsung',\n",
       " 'Town,',\n",
       " 'Seoul,',\n",
       " 'South',\n",
       " 'Korea.[1]',\n",
       " 'It',\n",
       " 'comprises',\n",
       " 'numerous',\n",
       " 'affiliated',\n",
       " 'businesses,[1]',\n",
       " 'most',\n",
       " 'of',\n",
       " 'them',\n",
       " 'united',\n",
       " 'under',\n",
       " 'the',\n",
       " 'Samsung',\n",
       " 'brand,',\n",
       " 'and',\n",
       " 'is',\n",
       " 'the',\n",
       " 'largest',\n",
       " 'South',\n",
       " 'Korean',\n",
       " 'chaebol',\n",
       " '(business',\n",
       " 'conglomerate).',\n",
       " 'As',\n",
       " 'of',\n",
       " '2020,',\n",
       " 'Samsung',\n",
       " 'has',\n",
       " 'the',\n",
       " '8th',\n",
       " 'highest',\n",
       " 'global',\n",
       " 'brand',\n",
       " 'value.[4]']"
      ]
     },
     "execution_count": 43,
     "metadata": {},
     "output_type": "execute_result"
    }
   ],
   "source": [
    "sw.split(' ')"
   ]
  },
  {
   "cell_type": "code",
   "execution_count": 44,
   "id": "e4707f45",
   "metadata": {},
   "outputs": [
    {
     "data": {
      "text/plain": [
       "0"
      ]
     },
     "execution_count": 44,
     "metadata": {},
     "output_type": "execute_result"
    }
   ],
   "source": [
    "sw.count('korean')"
   ]
  },
  {
   "cell_type": "code",
   "execution_count": 45,
   "id": "78e5506d",
   "metadata": {},
   "outputs": [],
   "source": [
    "sw = \"\"\"The Samsung Group[3] (or simply Samsung, stylized as SΛMSUNG) (Korean: 삼성 [samsʌŋ]) is a South Korean multinational manufacturing conglomerate headquartered in Samsung Town, Seoul, South Korea.[1] It comprises numerous affiliated businesses,[1] most of them united under the Samsung brand, and is the largest South Korean chaebol (business conglomerate). As of 2020, Samsung has the 8th highest global brand value.[4]\n",
    "\n",
    "Samsung was founded by Lee Byung-chul in 1938 as a trading company. Over the next three decades, the group diversified into areas including food processing, textiles, insurance, securities, and retail. Samsung entered the electronics industry in the late 1960s and the construction and shipbuilding industries in the mid-1970s; these areas would drive its subsequent growth. Following Lee's death in 1987, Samsung was separated into five business groups – Samsung Group, Shinsegae Group, CJ Group and Hansol Group, and Joongang Group.\n",
    "\n",
    "Notable Samsung industrial affiliates include Samsung Electronics (the world's largest information technology company, consumer electronics maker and chipmaker measured by 2017 revenues),[5][6] Samsung Heavy Industries (the world's 2nd largest shipbuilder measured by 2010 revenues),[7] and Samsung Engineering and Samsung C&T Corporation (respectively the world's 13th and 36th largest construction companies).[8] Other notable subsidiaries include Samsung Life Insurance (the world's 14th largest life insurance company),[9] Samsung Everland (operator of Everland Resort, the oldest theme park in South Korea)[10] and Cheil Worldwide (the world's 15th largest advertising agency, as measured by 2012 revenues).[11][12]\n",
    "\n",
    "\n",
    "Contents\n",
    "1\tEtymology\n",
    "2\tHistory\n",
    "2.1\t1938–1970\n",
    "2.2\t1970–1990\n",
    "2.3\t1990–2000\n",
    "2.4\t2000–present\n",
    "3\tInfluence\n",
    "4\tOperations\n",
    "4.1\tLeadership\n",
    "4.2\tAffiliates\n",
    "4.3\tDivested\n",
    "4.4\tDefunct\n",
    "4.5\tJoint ventures\n",
    "4.6\tPartially owned companies\n",
    "5\tAcquisitions and attempted acquisitions\n",
    "6\tMajor clients\n",
    "6.1\tUnited Arab Emirates government\n",
    "6.2\tOntario government\n",
    "7\tCorporate image\n",
    "7.1\tAudio logo\n",
    "7.2\tFont\n",
    "8\tSponsorships\n",
    "9\tControversies\n",
    "9.1\tLabor abuses\n",
    "9.2\tUnion busting activity\n",
    "9.3\t2007 Slush Fund scandal\n",
    "9.4\tLee Kun-hee's prostitution scandal\n",
    "9.5\tSupporting far-right groups\n",
    "9.6\tPrice fixing\n",
    "10\tReferences\n",
    "11\tExternal links\"\"\"\n"
   ]
  },
  {
   "cell_type": "code",
   "execution_count": 47,
   "id": "9a657a0d",
   "metadata": {},
   "outputs": [
    {
     "data": {
      "text/plain": [
       "0"
      ]
     },
     "execution_count": 47,
     "metadata": {},
     "output_type": "execute_result"
    }
   ],
   "source": [
    "sw.count('samsung')"
   ]
  },
  {
   "cell_type": "code",
   "execution_count": 48,
   "id": "52047adc",
   "metadata": {},
   "outputs": [
    {
     "data": {
      "text/plain": [
       "\"The Samsung Group[3] (or simply Samsung, stylized as SΛMSUNG) (Korean: 삼성 [samsʌŋ]) is a South Korean multinational manufacturing conglomerate headquartered in Samsung Town, Seoul, South Korea.[1] It comprises numerous affiliated businesses,[1] most of them united under the Samsung brand, and is the largest South Korean chaebol (business conglomerate). As of 2020, Samsung has the 8th highest global brand value.[4]\\n\\nSamsung was founded by Lee Byung-chul in 1938 as a trading company. Over the next three decades, the group diversified into areas including food processing, textiles, insurance, securities, and retail. Samsung entered the electronics industry in the late 1960s and the construction and shipbuilding industries in the mid-1970s; these areas would drive its subsequent growth. Following Lee's death in 1987, Samsung was separated into five business groups – Samsung Group, Shinsegae Group, CJ Group and Hansol Group, and Joongang Group.\\n\\nNotable Samsung industrial affiliates include Samsung Electronics (the world's largest information technology company, consumer electronics maker and chipmaker measured by 2017 revenues),[5][6] Samsung Heavy Industries (the world's 2nd largest shipbuilder measured by 2010 revenues),[7] and Samsung Engineering and Samsung C&T Corporation (respectively the world's 13th and 36th largest construction companies).[8] Other notable subsidiaries include Samsung Life Insurance (the world's 14th largest life insurance company),[9] Samsung Everland (operator of Everland Resort, the oldest theme park in South Korea)[10] and Cheil Worldwide (the world's 15th largest advertising agency, as measured by 2012 revenues).[11][12]\\n\\n\\nContents\\n1\\tEtymology\\n2\\tHistory\\n2.1\\t1938–1970\\n2.2\\t1970–1990\\n2.3\\t1990–2000\\n2.4\\t2000–present\\n3\\tInfluence\\n4\\tOperations\\n4.1\\tLeadership\\n4.2\\tAffiliates\\n4.3\\tDivested\\n4.4\\tDefunct\\n4.5\\tJoint ventures\\n4.6\\tPartially owned companies\\n5\\tAcquisitions and attempted acquisitions\\n6\\tMajor clients\\n6.1\\tUnited Arab Emirates government\\n6.2\\tOntario government\\n7\\tCorporate image\\n7.1\\tAudio logo\\n7.2\\tFont\\n8\\tSponsorships\\n9\\tControversies\\n9.1\\tLabor abuses\\n9.2\\tUnion busting activity\\n9.3\\t2007 Slush Fund scandal\\n9.4\\tLee Kun-hee's prostitution scandal\\n9.5\\tSupporting far-right groups\\n9.6\\tPrice fixing\\n10\\tReferences\\n11\\tExternal links\""
      ]
     },
     "execution_count": 48,
     "metadata": {},
     "output_type": "execute_result"
    }
   ],
   "source": [
    "sw"
   ]
  },
  {
   "cell_type": "code",
   "execution_count": 49,
   "id": "3adf91e4",
   "metadata": {},
   "outputs": [
    {
     "data": {
      "text/plain": [
       "['The',\n",
       " 'Samsung',\n",
       " 'Group[3]',\n",
       " '(or',\n",
       " 'simply',\n",
       " 'Samsung,',\n",
       " 'stylized',\n",
       " 'as',\n",
       " 'SΛMSUNG)',\n",
       " '(Korean:',\n",
       " '삼성',\n",
       " '[samsʌŋ])',\n",
       " 'is',\n",
       " 'a',\n",
       " 'South',\n",
       " 'Korean',\n",
       " 'multinational',\n",
       " 'manufacturing',\n",
       " 'conglomerate',\n",
       " 'headquartered',\n",
       " 'in',\n",
       " 'Samsung',\n",
       " 'Town,',\n",
       " 'Seoul,',\n",
       " 'South',\n",
       " 'Korea.[1]',\n",
       " 'It',\n",
       " 'comprises',\n",
       " 'numerous',\n",
       " 'affiliated',\n",
       " 'businesses,[1]',\n",
       " 'most',\n",
       " 'of',\n",
       " 'them',\n",
       " 'united',\n",
       " 'under',\n",
       " 'the',\n",
       " 'Samsung',\n",
       " 'brand,',\n",
       " 'and',\n",
       " 'is',\n",
       " 'the',\n",
       " 'largest',\n",
       " 'South',\n",
       " 'Korean',\n",
       " 'chaebol',\n",
       " '(business',\n",
       " 'conglomerate).',\n",
       " 'As',\n",
       " 'of',\n",
       " '2020,',\n",
       " 'Samsung',\n",
       " 'has',\n",
       " 'the',\n",
       " '8th',\n",
       " 'highest',\n",
       " 'global',\n",
       " 'brand',\n",
       " 'value.[4]\\n\\nSamsung',\n",
       " 'was',\n",
       " 'founded',\n",
       " 'by',\n",
       " 'Lee',\n",
       " 'Byung-chul',\n",
       " 'in',\n",
       " '1938',\n",
       " 'as',\n",
       " 'a',\n",
       " 'trading',\n",
       " 'company.',\n",
       " 'Over',\n",
       " 'the',\n",
       " 'next',\n",
       " 'three',\n",
       " 'decades,',\n",
       " 'the',\n",
       " 'group',\n",
       " 'diversified',\n",
       " 'into',\n",
       " 'areas',\n",
       " 'including',\n",
       " 'food',\n",
       " 'processing,',\n",
       " 'textiles,',\n",
       " 'insurance,',\n",
       " 'securities,',\n",
       " 'and',\n",
       " 'retail.',\n",
       " 'Samsung',\n",
       " 'entered',\n",
       " 'the',\n",
       " 'electronics',\n",
       " 'industry',\n",
       " 'in',\n",
       " 'the',\n",
       " 'late',\n",
       " '1960s',\n",
       " 'and',\n",
       " 'the',\n",
       " 'construction',\n",
       " 'and',\n",
       " 'shipbuilding',\n",
       " 'industries',\n",
       " 'in',\n",
       " 'the',\n",
       " 'mid-1970s;',\n",
       " 'these',\n",
       " 'areas',\n",
       " 'would',\n",
       " 'drive',\n",
       " 'its',\n",
       " 'subsequent',\n",
       " 'growth.',\n",
       " 'Following',\n",
       " \"Lee's\",\n",
       " 'death',\n",
       " 'in',\n",
       " '1987,',\n",
       " 'Samsung',\n",
       " 'was',\n",
       " 'separated',\n",
       " 'into',\n",
       " 'five',\n",
       " 'business',\n",
       " 'groups',\n",
       " '–',\n",
       " 'Samsung',\n",
       " 'Group,',\n",
       " 'Shinsegae',\n",
       " 'Group,',\n",
       " 'CJ',\n",
       " 'Group',\n",
       " 'and',\n",
       " 'Hansol',\n",
       " 'Group,',\n",
       " 'and',\n",
       " 'Joongang',\n",
       " 'Group.\\n\\nNotable',\n",
       " 'Samsung',\n",
       " 'industrial',\n",
       " 'affiliates',\n",
       " 'include',\n",
       " 'Samsung',\n",
       " 'Electronics',\n",
       " '(the',\n",
       " \"world's\",\n",
       " 'largest',\n",
       " 'information',\n",
       " 'technology',\n",
       " 'company,',\n",
       " 'consumer',\n",
       " 'electronics',\n",
       " 'maker',\n",
       " 'and',\n",
       " 'chipmaker',\n",
       " 'measured',\n",
       " 'by',\n",
       " '2017',\n",
       " 'revenues),[5][6]',\n",
       " 'Samsung',\n",
       " 'Heavy',\n",
       " 'Industries',\n",
       " '(the',\n",
       " \"world's\",\n",
       " '2nd',\n",
       " 'largest',\n",
       " 'shipbuilder',\n",
       " 'measured',\n",
       " 'by',\n",
       " '2010',\n",
       " 'revenues),[7]',\n",
       " 'and',\n",
       " 'Samsung',\n",
       " 'Engineering',\n",
       " 'and',\n",
       " 'Samsung',\n",
       " 'C&T',\n",
       " 'Corporation',\n",
       " '(respectively',\n",
       " 'the',\n",
       " \"world's\",\n",
       " '13th',\n",
       " 'and',\n",
       " '36th',\n",
       " 'largest',\n",
       " 'construction',\n",
       " 'companies).[8]',\n",
       " 'Other',\n",
       " 'notable',\n",
       " 'subsidiaries',\n",
       " 'include',\n",
       " 'Samsung',\n",
       " 'Life',\n",
       " 'Insurance',\n",
       " '(the',\n",
       " \"world's\",\n",
       " '14th',\n",
       " 'largest',\n",
       " 'life',\n",
       " 'insurance',\n",
       " 'company),[9]',\n",
       " 'Samsung',\n",
       " 'Everland',\n",
       " '(operator',\n",
       " 'of',\n",
       " 'Everland',\n",
       " 'Resort,',\n",
       " 'the',\n",
       " 'oldest',\n",
       " 'theme',\n",
       " 'park',\n",
       " 'in',\n",
       " 'South',\n",
       " 'Korea)[10]',\n",
       " 'and',\n",
       " 'Cheil',\n",
       " 'Worldwide',\n",
       " '(the',\n",
       " \"world's\",\n",
       " '15th',\n",
       " 'largest',\n",
       " 'advertising',\n",
       " 'agency,',\n",
       " 'as',\n",
       " 'measured',\n",
       " 'by',\n",
       " '2012',\n",
       " 'revenues).[11][12]\\n\\n\\nContents\\n1\\tEtymology\\n2\\tHistory\\n2.1\\t1938–1970\\n2.2\\t1970–1990\\n2.3\\t1990–2000\\n2.4\\t2000–present\\n3\\tInfluence\\n4\\tOperations\\n4.1\\tLeadership\\n4.2\\tAffiliates\\n4.3\\tDivested\\n4.4\\tDefunct\\n4.5\\tJoint',\n",
       " 'ventures\\n4.6\\tPartially',\n",
       " 'owned',\n",
       " 'companies\\n5\\tAcquisitions',\n",
       " 'and',\n",
       " 'attempted',\n",
       " 'acquisitions\\n6\\tMajor',\n",
       " 'clients\\n6.1\\tUnited',\n",
       " 'Arab',\n",
       " 'Emirates',\n",
       " 'government\\n6.2\\tOntario',\n",
       " 'government\\n7\\tCorporate',\n",
       " 'image\\n7.1\\tAudio',\n",
       " 'logo\\n7.2\\tFont\\n8\\tSponsorships\\n9\\tControversies\\n9.1\\tLabor',\n",
       " 'abuses\\n9.2\\tUnion',\n",
       " 'busting',\n",
       " 'activity\\n9.3\\t2007',\n",
       " 'Slush',\n",
       " 'Fund',\n",
       " 'scandal\\n9.4\\tLee',\n",
       " \"Kun-hee's\",\n",
       " 'prostitution',\n",
       " 'scandal\\n9.5\\tSupporting',\n",
       " 'far-right',\n",
       " 'groups\\n9.6\\tPrice',\n",
       " 'fixing\\n10\\tReferences\\n11\\tExternal',\n",
       " 'links']"
      ]
     },
     "execution_count": 49,
     "metadata": {},
     "output_type": "execute_result"
    }
   ],
   "source": [
    "sw.split(' ')"
   ]
  },
  {
   "cell_type": "code",
   "execution_count": 50,
   "id": "03f9e991",
   "metadata": {},
   "outputs": [
    {
     "data": {
      "text/plain": [
       "\"THE SAMSUNG GROUP[3] (OR SIMPLY SAMSUNG, STYLIZED AS SΛMSUNG) (KOREAN: 삼성 [SAMSɅŊ]) IS A SOUTH KOREAN MULTINATIONAL MANUFACTURING CONGLOMERATE HEADQUARTERED IN SAMSUNG TOWN, SEOUL, SOUTH KOREA.[1] IT COMPRISES NUMEROUS AFFILIATED BUSINESSES,[1] MOST OF THEM UNITED UNDER THE SAMSUNG BRAND, AND IS THE LARGEST SOUTH KOREAN CHAEBOL (BUSINESS CONGLOMERATE). AS OF 2020, SAMSUNG HAS THE 8TH HIGHEST GLOBAL BRAND VALUE.[4]\\n\\nSAMSUNG WAS FOUNDED BY LEE BYUNG-CHUL IN 1938 AS A TRADING COMPANY. OVER THE NEXT THREE DECADES, THE GROUP DIVERSIFIED INTO AREAS INCLUDING FOOD PROCESSING, TEXTILES, INSURANCE, SECURITIES, AND RETAIL. SAMSUNG ENTERED THE ELECTRONICS INDUSTRY IN THE LATE 1960S AND THE CONSTRUCTION AND SHIPBUILDING INDUSTRIES IN THE MID-1970S; THESE AREAS WOULD DRIVE ITS SUBSEQUENT GROWTH. FOLLOWING LEE'S DEATH IN 1987, SAMSUNG WAS SEPARATED INTO FIVE BUSINESS GROUPS – SAMSUNG GROUP, SHINSEGAE GROUP, CJ GROUP AND HANSOL GROUP, AND JOONGANG GROUP.\\n\\nNOTABLE SAMSUNG INDUSTRIAL AFFILIATES INCLUDE SAMSUNG ELECTRONICS (THE WORLD'S LARGEST INFORMATION TECHNOLOGY COMPANY, CONSUMER ELECTRONICS MAKER AND CHIPMAKER MEASURED BY 2017 REVENUES),[5][6] SAMSUNG HEAVY INDUSTRIES (THE WORLD'S 2ND LARGEST SHIPBUILDER MEASURED BY 2010 REVENUES),[7] AND SAMSUNG ENGINEERING AND SAMSUNG C&T CORPORATION (RESPECTIVELY THE WORLD'S 13TH AND 36TH LARGEST CONSTRUCTION COMPANIES).[8] OTHER NOTABLE SUBSIDIARIES INCLUDE SAMSUNG LIFE INSURANCE (THE WORLD'S 14TH LARGEST LIFE INSURANCE COMPANY),[9] SAMSUNG EVERLAND (OPERATOR OF EVERLAND RESORT, THE OLDEST THEME PARK IN SOUTH KOREA)[10] AND CHEIL WORLDWIDE (THE WORLD'S 15TH LARGEST ADVERTISING AGENCY, AS MEASURED BY 2012 REVENUES).[11][12]\\n\\n\\nCONTENTS\\n1\\tETYMOLOGY\\n2\\tHISTORY\\n2.1\\t1938–1970\\n2.2\\t1970–1990\\n2.3\\t1990–2000\\n2.4\\t2000–PRESENT\\n3\\tINFLUENCE\\n4\\tOPERATIONS\\n4.1\\tLEADERSHIP\\n4.2\\tAFFILIATES\\n4.3\\tDIVESTED\\n4.4\\tDEFUNCT\\n4.5\\tJOINT VENTURES\\n4.6\\tPARTIALLY OWNED COMPANIES\\n5\\tACQUISITIONS AND ATTEMPTED ACQUISITIONS\\n6\\tMAJOR CLIENTS\\n6.1\\tUNITED ARAB EMIRATES GOVERNMENT\\n6.2\\tONTARIO GOVERNMENT\\n7\\tCORPORATE IMAGE\\n7.1\\tAUDIO LOGO\\n7.2\\tFONT\\n8\\tSPONSORSHIPS\\n9\\tCONTROVERSIES\\n9.1\\tLABOR ABUSES\\n9.2\\tUNION BUSTING ACTIVITY\\n9.3\\t2007 SLUSH FUND SCANDAL\\n9.4\\tLEE KUN-HEE'S PROSTITUTION SCANDAL\\n9.5\\tSUPPORTING FAR-RIGHT GROUPS\\n9.6\\tPRICE FIXING\\n10\\tREFERENCES\\n11\\tEXTERNAL LINKS\""
      ]
     },
     "execution_count": 50,
     "metadata": {},
     "output_type": "execute_result"
    }
   ],
   "source": [
    "sw.upper()"
   ]
  },
  {
   "cell_type": "code",
   "execution_count": 51,
   "id": "1f5dd0f8",
   "metadata": {},
   "outputs": [
    {
     "data": {
      "text/plain": [
       "\"the samsung group[3] (or simply samsung, stylized as sλmsung) (korean: 삼성 [samsʌŋ]) is a south korean multinational manufacturing conglomerate headquartered in samsung town, seoul, south korea.[1] it comprises numerous affiliated businesses,[1] most of them united under the samsung brand, and is the largest south korean chaebol (business conglomerate). as of 2020, samsung has the 8th highest global brand value.[4]\\n\\nsamsung was founded by lee byung-chul in 1938 as a trading company. over the next three decades, the group diversified into areas including food processing, textiles, insurance, securities, and retail. samsung entered the electronics industry in the late 1960s and the construction and shipbuilding industries in the mid-1970s; these areas would drive its subsequent growth. following lee's death in 1987, samsung was separated into five business groups – samsung group, shinsegae group, cj group and hansol group, and joongang group.\\n\\nnotable samsung industrial affiliates include samsung electronics (the world's largest information technology company, consumer electronics maker and chipmaker measured by 2017 revenues),[5][6] samsung heavy industries (the world's 2nd largest shipbuilder measured by 2010 revenues),[7] and samsung engineering and samsung c&t corporation (respectively the world's 13th and 36th largest construction companies).[8] other notable subsidiaries include samsung life insurance (the world's 14th largest life insurance company),[9] samsung everland (operator of everland resort, the oldest theme park in south korea)[10] and cheil worldwide (the world's 15th largest advertising agency, as measured by 2012 revenues).[11][12]\\n\\n\\ncontents\\n1\\tetymology\\n2\\thistory\\n2.1\\t1938–1970\\n2.2\\t1970–1990\\n2.3\\t1990–2000\\n2.4\\t2000–present\\n3\\tinfluence\\n4\\toperations\\n4.1\\tleadership\\n4.2\\taffiliates\\n4.3\\tdivested\\n4.4\\tdefunct\\n4.5\\tjoint ventures\\n4.6\\tpartially owned companies\\n5\\tacquisitions and attempted acquisitions\\n6\\tmajor clients\\n6.1\\tunited arab emirates government\\n6.2\\tontario government\\n7\\tcorporate image\\n7.1\\taudio logo\\n7.2\\tfont\\n8\\tsponsorships\\n9\\tcontroversies\\n9.1\\tlabor abuses\\n9.2\\tunion busting activity\\n9.3\\t2007 slush fund scandal\\n9.4\\tlee kun-hee's prostitution scandal\\n9.5\\tsupporting far-right groups\\n9.6\\tprice fixing\\n10\\treferences\\n11\\texternal links\""
      ]
     },
     "execution_count": 51,
     "metadata": {},
     "output_type": "execute_result"
    }
   ],
   "source": [
    "sw.lower()"
   ]
  },
  {
   "cell_type": "code",
   "execution_count": 52,
   "id": "cad13a13",
   "metadata": {},
   "outputs": [],
   "source": [
    "sw = sw.upper()"
   ]
  },
  {
   "cell_type": "code",
   "execution_count": 53,
   "id": "cc8d8cad",
   "metadata": {},
   "outputs": [
    {
     "data": {
      "text/plain": [
       "\"THE SAMSUNG GROUP[3] (OR SIMPLY SAMSUNG, STYLIZED AS SΛMSUNG) (KOREAN: 삼성 [SAMSɅŊ]) IS A SOUTH KOREAN MULTINATIONAL MANUFACTURING CONGLOMERATE HEADQUARTERED IN SAMSUNG TOWN, SEOUL, SOUTH KOREA.[1] IT COMPRISES NUMEROUS AFFILIATED BUSINESSES,[1] MOST OF THEM UNITED UNDER THE SAMSUNG BRAND, AND IS THE LARGEST SOUTH KOREAN CHAEBOL (BUSINESS CONGLOMERATE). AS OF 2020, SAMSUNG HAS THE 8TH HIGHEST GLOBAL BRAND VALUE.[4]\\n\\nSAMSUNG WAS FOUNDED BY LEE BYUNG-CHUL IN 1938 AS A TRADING COMPANY. OVER THE NEXT THREE DECADES, THE GROUP DIVERSIFIED INTO AREAS INCLUDING FOOD PROCESSING, TEXTILES, INSURANCE, SECURITIES, AND RETAIL. SAMSUNG ENTERED THE ELECTRONICS INDUSTRY IN THE LATE 1960S AND THE CONSTRUCTION AND SHIPBUILDING INDUSTRIES IN THE MID-1970S; THESE AREAS WOULD DRIVE ITS SUBSEQUENT GROWTH. FOLLOWING LEE'S DEATH IN 1987, SAMSUNG WAS SEPARATED INTO FIVE BUSINESS GROUPS – SAMSUNG GROUP, SHINSEGAE GROUP, CJ GROUP AND HANSOL GROUP, AND JOONGANG GROUP.\\n\\nNOTABLE SAMSUNG INDUSTRIAL AFFILIATES INCLUDE SAMSUNG ELECTRONICS (THE WORLD'S LARGEST INFORMATION TECHNOLOGY COMPANY, CONSUMER ELECTRONICS MAKER AND CHIPMAKER MEASURED BY 2017 REVENUES),[5][6] SAMSUNG HEAVY INDUSTRIES (THE WORLD'S 2ND LARGEST SHIPBUILDER MEASURED BY 2010 REVENUES),[7] AND SAMSUNG ENGINEERING AND SAMSUNG C&T CORPORATION (RESPECTIVELY THE WORLD'S 13TH AND 36TH LARGEST CONSTRUCTION COMPANIES).[8] OTHER NOTABLE SUBSIDIARIES INCLUDE SAMSUNG LIFE INSURANCE (THE WORLD'S 14TH LARGEST LIFE INSURANCE COMPANY),[9] SAMSUNG EVERLAND (OPERATOR OF EVERLAND RESORT, THE OLDEST THEME PARK IN SOUTH KOREA)[10] AND CHEIL WORLDWIDE (THE WORLD'S 15TH LARGEST ADVERTISING AGENCY, AS MEASURED BY 2012 REVENUES).[11][12]\\n\\n\\nCONTENTS\\n1\\tETYMOLOGY\\n2\\tHISTORY\\n2.1\\t1938–1970\\n2.2\\t1970–1990\\n2.3\\t1990–2000\\n2.4\\t2000–PRESENT\\n3\\tINFLUENCE\\n4\\tOPERATIONS\\n4.1\\tLEADERSHIP\\n4.2\\tAFFILIATES\\n4.3\\tDIVESTED\\n4.4\\tDEFUNCT\\n4.5\\tJOINT VENTURES\\n4.6\\tPARTIALLY OWNED COMPANIES\\n5\\tACQUISITIONS AND ATTEMPTED ACQUISITIONS\\n6\\tMAJOR CLIENTS\\n6.1\\tUNITED ARAB EMIRATES GOVERNMENT\\n6.2\\tONTARIO GOVERNMENT\\n7\\tCORPORATE IMAGE\\n7.1\\tAUDIO LOGO\\n7.2\\tFONT\\n8\\tSPONSORSHIPS\\n9\\tCONTROVERSIES\\n9.1\\tLABOR ABUSES\\n9.2\\tUNION BUSTING ACTIVITY\\n9.3\\t2007 SLUSH FUND SCANDAL\\n9.4\\tLEE KUN-HEE'S PROSTITUTION SCANDAL\\n9.5\\tSUPPORTING FAR-RIGHT GROUPS\\n9.6\\tPRICE FIXING\\n10\\tREFERENCES\\n11\\tEXTERNAL LINKS\""
      ]
     },
     "execution_count": 53,
     "metadata": {},
     "output_type": "execute_result"
    }
   ],
   "source": [
    "sw"
   ]
  },
  {
   "cell_type": "code",
   "execution_count": 54,
   "id": "68bac1b8",
   "metadata": {},
   "outputs": [],
   "source": [
    "sw = sw.lower()"
   ]
  },
  {
   "cell_type": "code",
   "execution_count": 55,
   "id": "b49777f6",
   "metadata": {},
   "outputs": [
    {
     "data": {
      "text/plain": [
       "\"the samsung group[3] (or simply samsung, stylized as sλmsung) (korean: 삼성 [samsʌŋ]) is a south korean multinational manufacturing conglomerate headquartered in samsung town, seoul, south korea.[1] it comprises numerous affiliated businesses,[1] most of them united under the samsung brand, and is the largest south korean chaebol (business conglomerate). as of 2020, samsung has the 8th highest global brand value.[4]\\n\\nsamsung was founded by lee byung-chul in 1938 as a trading company. over the next three decades, the group diversified into areas including food processing, textiles, insurance, securities, and retail. samsung entered the electronics industry in the late 1960s and the construction and shipbuilding industries in the mid-1970s; these areas would drive its subsequent growth. following lee's death in 1987, samsung was separated into five business groups – samsung group, shinsegae group, cj group and hansol group, and joongang group.\\n\\nnotable samsung industrial affiliates include samsung electronics (the world's largest information technology company, consumer electronics maker and chipmaker measured by 2017 revenues),[5][6] samsung heavy industries (the world's 2nd largest shipbuilder measured by 2010 revenues),[7] and samsung engineering and samsung c&t corporation (respectively the world's 13th and 36th largest construction companies).[8] other notable subsidiaries include samsung life insurance (the world's 14th largest life insurance company),[9] samsung everland (operator of everland resort, the oldest theme park in south korea)[10] and cheil worldwide (the world's 15th largest advertising agency, as measured by 2012 revenues).[11][12]\\n\\n\\ncontents\\n1\\tetymology\\n2\\thistory\\n2.1\\t1938–1970\\n2.2\\t1970–1990\\n2.3\\t1990–2000\\n2.4\\t2000–present\\n3\\tinfluence\\n4\\toperations\\n4.1\\tleadership\\n4.2\\taffiliates\\n4.3\\tdivested\\n4.4\\tdefunct\\n4.5\\tjoint ventures\\n4.6\\tpartially owned companies\\n5\\tacquisitions and attempted acquisitions\\n6\\tmajor clients\\n6.1\\tunited arab emirates government\\n6.2\\tontario government\\n7\\tcorporate image\\n7.1\\taudio logo\\n7.2\\tfont\\n8\\tsponsorships\\n9\\tcontroversies\\n9.1\\tlabor abuses\\n9.2\\tunion busting activity\\n9.3\\t2007 slush fund scandal\\n9.4\\tlee kun-hee's prostitution scandal\\n9.5\\tsupporting far-right groups\\n9.6\\tprice fixing\\n10\\treferences\\n11\\texternal links\""
      ]
     },
     "execution_count": 55,
     "metadata": {},
     "output_type": "execute_result"
    }
   ],
   "source": [
    "sw"
   ]
  },
  {
   "cell_type": "code",
   "execution_count": 59,
   "id": "9f1173a3",
   "metadata": {},
   "outputs": [],
   "source": [
    "s = \"shoumya padhiary\""
   ]
  },
  {
   "cell_type": "code",
   "execution_count": 60,
   "id": "45359a55",
   "metadata": {},
   "outputs": [
    {
     "data": {
      "text/plain": [
       "'Shoumya Padhiary'"
      ]
     },
     "execution_count": 60,
     "metadata": {},
     "output_type": "execute_result"
    }
   ],
   "source": [
    "s.title()"
   ]
  },
  {
   "cell_type": "code",
   "execution_count": 61,
   "id": "cabf3392",
   "metadata": {},
   "outputs": [
    {
     "data": {
      "text/plain": [
       "'Shoumya padhiary'"
      ]
     },
     "execution_count": 61,
     "metadata": {},
     "output_type": "execute_result"
    }
   ],
   "source": [
    "s.capitalize()"
   ]
  },
  {
   "cell_type": "code",
   "execution_count": 62,
   "id": "8508d7c5",
   "metadata": {},
   "outputs": [],
   "source": [
    "s = \"shoumya padhIARy\""
   ]
  },
  {
   "cell_type": "code",
   "execution_count": 63,
   "id": "688697f3",
   "metadata": {},
   "outputs": [
    {
     "data": {
      "text/plain": [
       "'SHOUMYA PADHiarY'"
      ]
     },
     "execution_count": 63,
     "metadata": {},
     "output_type": "execute_result"
    }
   ],
   "source": [
    "s.swapcase()"
   ]
  },
  {
   "cell_type": "code",
   "execution_count": 65,
   "id": "6c96be19",
   "metadata": {},
   "outputs": [
    {
     "data": {
      "text/plain": [
       "'yRAIhdap aymuohs'"
      ]
     },
     "execution_count": 65,
     "metadata": {},
     "output_type": "execute_result"
    }
   ],
   "source": [
    "''.join(reversed(s))"
   ]
  },
  {
   "cell_type": "code",
   "execution_count": 66,
   "id": "80b89522",
   "metadata": {},
   "outputs": [
    {
     "data": {
      "text/plain": [
       "'yRAIhdap aymuohs'"
      ]
     },
     "execution_count": 66,
     "metadata": {},
     "output_type": "execute_result"
    }
   ],
   "source": [
    "s[::-1]"
   ]
  },
  {
   "cell_type": "code",
   "execution_count": 70,
   "id": "87c1c76f",
   "metadata": {},
   "outputs": [],
   "source": [
    "s = \"  sho  umya  \""
   ]
  },
  {
   "cell_type": "code",
   "execution_count": 68,
   "id": "e64de2e5",
   "metadata": {},
   "outputs": [
    {
     "data": {
      "text/plain": [
       "'  shoumya  '"
      ]
     },
     "execution_count": 68,
     "metadata": {},
     "output_type": "execute_result"
    }
   ],
   "source": [
    "s"
   ]
  },
  {
   "cell_type": "code",
   "execution_count": 71,
   "id": "40486972",
   "metadata": {},
   "outputs": [
    {
     "data": {
      "text/plain": [
       "'sho  umya'"
      ]
     },
     "execution_count": 71,
     "metadata": {},
     "output_type": "execute_result"
    }
   ],
   "source": [
    "s.strip()"
   ]
  },
  {
   "cell_type": "code",
   "execution_count": 72,
   "id": "3074cd38",
   "metadata": {},
   "outputs": [
    {
     "data": {
      "text/plain": [
       "'sho  umya  '"
      ]
     },
     "execution_count": 72,
     "metadata": {},
     "output_type": "execute_result"
    }
   ],
   "source": [
    "s.lstrip()"
   ]
  },
  {
   "cell_type": "code",
   "execution_count": 73,
   "id": "fa43d2df",
   "metadata": {},
   "outputs": [
    {
     "data": {
      "text/plain": [
       "'  sho  umya'"
      ]
     },
     "execution_count": 73,
     "metadata": {},
     "output_type": "execute_result"
    }
   ],
   "source": [
    "s.rstrip()"
   ]
  },
  {
   "cell_type": "code",
   "execution_count": 77,
   "id": "140ee928",
   "metadata": {},
   "outputs": [
    {
     "data": {
      "text/plain": [
       "'s abc h abc o abc u abc m abc y abc a'"
      ]
     },
     "execution_count": 77,
     "metadata": {},
     "output_type": "execute_result"
    }
   ],
   "source": [
    "\" abc \" .join(\"shoumya\")"
   ]
  },
  {
   "cell_type": "code",
   "execution_count": 78,
   "id": "9c03d35a",
   "metadata": {},
   "outputs": [],
   "source": [
    "s = \"shoumya\""
   ]
  },
  {
   "cell_type": "code",
   "execution_count": 83,
   "id": "b0c2682a",
   "metadata": {},
   "outputs": [
    {
     "data": {
      "text/plain": [
       "False"
      ]
     },
     "execution_count": 83,
     "metadata": {},
     "output_type": "execute_result"
    }
   ],
   "source": [
    "s.isupper()"
   ]
  },
  {
   "cell_type": "code",
   "execution_count": 85,
   "id": "570594dd",
   "metadata": {},
   "outputs": [],
   "source": [
    "s1 = \"SHOU\""
   ]
  },
  {
   "cell_type": "code",
   "execution_count": 86,
   "id": "123fceb6",
   "metadata": {},
   "outputs": [
    {
     "data": {
      "text/plain": [
       "True"
      ]
     },
     "execution_count": 86,
     "metadata": {},
     "output_type": "execute_result"
    }
   ],
   "source": [
    "s1.isupper()"
   ]
  },
  {
   "cell_type": "code",
   "execution_count": 87,
   "id": "9bb34001",
   "metadata": {},
   "outputs": [
    {
     "data": {
      "text/plain": [
       "True"
      ]
     },
     "execution_count": 87,
     "metadata": {},
     "output_type": "execute_result"
    }
   ],
   "source": [
    "s.islower()"
   ]
  },
  {
   "cell_type": "code",
   "execution_count": 88,
   "id": "5ccc898d",
   "metadata": {},
   "outputs": [],
   "source": [
    "s2  = \"shoumya\""
   ]
  },
  {
   "cell_type": "code",
   "execution_count": 89,
   "id": "0aec589f",
   "metadata": {},
   "outputs": [
    {
     "data": {
      "text/plain": [
       "True"
      ]
     },
     "execution_count": 89,
     "metadata": {},
     "output_type": "execute_result"
    }
   ],
   "source": [
    "s2.islower()"
   ]
  },
  {
   "cell_type": "code",
   "execution_count": 91,
   "id": "79affa32",
   "metadata": {},
   "outputs": [
    {
     "data": {
      "text/plain": [
       "False"
      ]
     },
     "execution_count": 91,
     "metadata": {},
     "output_type": "execute_result"
    }
   ],
   "source": [
    "s.isspace()"
   ]
  },
  {
   "cell_type": "code",
   "execution_count": 92,
   "id": "e9b5cdfb",
   "metadata": {},
   "outputs": [],
   "source": [
    "s4 = \"  \""
   ]
  },
  {
   "cell_type": "code",
   "execution_count": 93,
   "id": "4a018a57",
   "metadata": {},
   "outputs": [
    {
     "data": {
      "text/plain": [
       "True"
      ]
     },
     "execution_count": 93,
     "metadata": {},
     "output_type": "execute_result"
    }
   ],
   "source": [
    "s4.isspace()"
   ]
  },
  {
   "cell_type": "code",
   "execution_count": 94,
   "id": "f31934dc",
   "metadata": {},
   "outputs": [
    {
     "data": {
      "text/plain": [
       "False"
      ]
     },
     "execution_count": 94,
     "metadata": {},
     "output_type": "execute_result"
    }
   ],
   "source": [
    "s.isdigit()"
   ]
  },
  {
   "cell_type": "code",
   "execution_count": 95,
   "id": "f8bde162",
   "metadata": {},
   "outputs": [],
   "source": [
    "s5 =\"2334324\""
   ]
  },
  {
   "cell_type": "code",
   "execution_count": 96,
   "id": "83ea3c32",
   "metadata": {},
   "outputs": [
    {
     "data": {
      "text/plain": [
       "True"
      ]
     },
     "execution_count": 96,
     "metadata": {},
     "output_type": "execute_result"
    }
   ],
   "source": [
    "s5.isdigit()"
   ]
  },
  {
   "cell_type": "code",
   "execution_count": 97,
   "id": "8a5645c0",
   "metadata": {},
   "outputs": [],
   "source": [
    "s6=\"234bfhf\""
   ]
  },
  {
   "cell_type": "code",
   "execution_count": 98,
   "id": "de2ae08f",
   "metadata": {},
   "outputs": [
    {
     "data": {
      "text/plain": [
       "False"
      ]
     },
     "execution_count": 98,
     "metadata": {},
     "output_type": "execute_result"
    }
   ],
   "source": [
    "s6.isdigit()"
   ]
  },
  {
   "cell_type": "code",
   "execution_count": 99,
   "id": "c49bb697",
   "metadata": {},
   "outputs": [
    {
     "data": {
      "text/plain": [
       "True"
      ]
     },
     "execution_count": 99,
     "metadata": {},
     "output_type": "execute_result"
    }
   ],
   "source": [
    "s.isalnum()"
   ]
  },
  {
   "cell_type": "code",
   "execution_count": 100,
   "id": "e6593c5e",
   "metadata": {},
   "outputs": [
    {
     "data": {
      "text/plain": [
       "'shoumya'"
      ]
     },
     "execution_count": 100,
     "metadata": {},
     "output_type": "execute_result"
    }
   ],
   "source": [
    "s"
   ]
  },
  {
   "cell_type": "code",
   "execution_count": 101,
   "id": "6ae01466",
   "metadata": {},
   "outputs": [
    {
     "data": {
      "text/plain": [
       "True"
      ]
     },
     "execution_count": 101,
     "metadata": {},
     "output_type": "execute_result"
    }
   ],
   "source": [
    "s.isalpha()"
   ]
  },
  {
   "cell_type": "code",
   "execution_count": 103,
   "id": "3cf6e11f",
   "metadata": {},
   "outputs": [],
   "source": [
    "s7  = \"09595jgjgmrti\""
   ]
  },
  {
   "cell_type": "code",
   "execution_count": 104,
   "id": "a5dcb65d",
   "metadata": {},
   "outputs": [
    {
     "data": {
      "text/plain": [
       "False"
      ]
     },
     "execution_count": 104,
     "metadata": {},
     "output_type": "execute_result"
    }
   ],
   "source": [
    "s7.isalpha()"
   ]
  },
  {
   "cell_type": "code",
   "execution_count": 105,
   "id": "43cf9296",
   "metadata": {},
   "outputs": [
    {
     "data": {
      "text/plain": [
       "'shoumya'"
      ]
     },
     "execution_count": 105,
     "metadata": {},
     "output_type": "execute_result"
    }
   ],
   "source": [
    "s"
   ]
  },
  {
   "cell_type": "code",
   "execution_count": 106,
   "id": "a61babf4",
   "metadata": {},
   "outputs": [
    {
     "data": {
      "text/plain": [
       "False"
      ]
     },
     "execution_count": 106,
     "metadata": {},
     "output_type": "execute_result"
    }
   ],
   "source": [
    "s.startswith('i')"
   ]
  },
  {
   "cell_type": "code",
   "execution_count": 109,
   "id": "81fd6891",
   "metadata": {},
   "outputs": [
    {
     "data": {
      "text/plain": [
       "False"
      ]
     },
     "execution_count": 109,
     "metadata": {},
     "output_type": "execute_result"
    }
   ],
   "source": [
    "s.startswith('S')"
   ]
  },
  {
   "cell_type": "code",
   "execution_count": 112,
   "id": "2e185442",
   "metadata": {},
   "outputs": [
    {
     "data": {
      "text/plain": [
       "False"
      ]
     },
     "execution_count": 112,
     "metadata": {},
     "output_type": "execute_result"
    }
   ],
   "source": [
    "s.endswith('A')"
   ]
  },
  {
   "cell_type": "code",
   "execution_count": 115,
   "id": "e51d731a",
   "metadata": {},
   "outputs": [
    {
     "data": {
      "text/plain": [
       "'09595jgjgmrti'"
      ]
     },
     "execution_count": 115,
     "metadata": {},
     "output_type": "execute_result"
    }
   ],
   "source": [
    "s7"
   ]
  },
  {
   "cell_type": "code",
   "execution_count": 116,
   "id": "7291f279",
   "metadata": {},
   "outputs": [
    {
     "data": {
      "text/plain": [
       "'ineuron'"
      ]
     },
     "execution_count": 116,
     "metadata": {},
     "output_type": "execute_result"
    }
   ],
   "source": [
    "s3"
   ]
  },
  {
   "cell_type": "code",
   "execution_count": 117,
   "id": "7bbb7a3c",
   "metadata": {},
   "outputs": [
    {
     "data": {
      "text/plain": [
       "False"
      ]
     },
     "execution_count": 117,
     "metadata": {},
     "output_type": "execute_result"
    }
   ],
   "source": [
    "s.isdigit()"
   ]
  },
  {
   "cell_type": "code",
   "execution_count": 118,
   "id": "cea9dc44",
   "metadata": {},
   "outputs": [
    {
     "data": {
      "text/plain": [
       "'shoumya'"
      ]
     },
     "execution_count": 118,
     "metadata": {},
     "output_type": "execute_result"
    }
   ],
   "source": [
    "s"
   ]
  },
  {
   "cell_type": "code",
   "execution_count": 119,
   "id": "6fd508ac",
   "metadata": {},
   "outputs": [
    {
     "data": {
      "text/plain": [
       "'shoumya'"
      ]
     },
     "execution_count": 119,
     "metadata": {},
     "output_type": "execute_result"
    }
   ],
   "source": [
    "s"
   ]
  },
  {
   "cell_type": "code",
   "execution_count": 120,
   "id": "f95870ca",
   "metadata": {},
   "outputs": [
    {
     "data": {
      "text/plain": [
       "'shoumya'"
      ]
     },
     "execution_count": 120,
     "metadata": {},
     "output_type": "execute_result"
    }
   ],
   "source": [
    "s"
   ]
  },
  {
   "cell_type": "code",
   "execution_count": 121,
   "id": "ad796b7b",
   "metadata": {},
   "outputs": [
    {
     "data": {
      "text/plain": [
       "'shoumya'"
      ]
     },
     "execution_count": 121,
     "metadata": {},
     "output_type": "execute_result"
    }
   ],
   "source": [
    "s"
   ]
  },
  {
   "cell_type": "code",
   "execution_count": 122,
   "id": "9025c711",
   "metadata": {},
   "outputs": [
    {
     "data": {
      "text/plain": [
       "True"
      ]
     },
     "execution_count": 122,
     "metadata": {},
     "output_type": "execute_result"
    }
   ],
   "source": [
    "s.isascii()"
   ]
  },
  {
   "cell_type": "code",
   "execution_count": 123,
   "id": "f66caee0",
   "metadata": {},
   "outputs": [],
   "source": [
    "s =\"1233234443\""
   ]
  },
  {
   "cell_type": "code",
   "execution_count": 124,
   "id": "9d3000c4",
   "metadata": {},
   "outputs": [
    {
     "data": {
      "text/plain": [
       "True"
      ]
     },
     "execution_count": 124,
     "metadata": {},
     "output_type": "execute_result"
    }
   ],
   "source": [
    "s.isdigit()"
   ]
  },
  {
   "cell_type": "code",
   "execution_count": 125,
   "id": "cef8a862",
   "metadata": {},
   "outputs": [
    {
     "data": {
      "text/plain": [
       "False"
      ]
     },
     "execution_count": 125,
     "metadata": {},
     "output_type": "execute_result"
    }
   ],
   "source": [
    "s1.isnumeric()"
   ]
  },
  {
   "cell_type": "code",
   "execution_count": 126,
   "id": "bf0301f4",
   "metadata": {},
   "outputs": [],
   "source": [
    "s2 =\"1233 1334 213443\""
   ]
  },
  {
   "cell_type": "code",
   "execution_count": 127,
   "id": "16fda226",
   "metadata": {},
   "outputs": [
    {
     "data": {
      "text/plain": [
       "False"
      ]
     },
     "execution_count": 127,
     "metadata": {},
     "output_type": "execute_result"
    }
   ],
   "source": [
    "s2.isnumeric()"
   ]
  },
  {
   "cell_type": "code",
   "execution_count": 128,
   "id": "5b2f3985",
   "metadata": {},
   "outputs": [
    {
     "data": {
      "text/plain": [
       "False"
      ]
     },
     "execution_count": 128,
     "metadata": {},
     "output_type": "execute_result"
    }
   ],
   "source": [
    "s2.isdigit()"
   ]
  },
  {
   "cell_type": "code",
   "execution_count": 129,
   "id": "b31d5ee9",
   "metadata": {},
   "outputs": [],
   "source": [
    "s = 56"
   ]
  },
  {
   "cell_type": "code",
   "execution_count": 130,
   "id": "6cb26c9e",
   "metadata": {},
   "outputs": [],
   "source": [
    "s = \"shoumya\""
   ]
  },
  {
   "cell_type": "code",
   "execution_count": 131,
   "id": "79ccf848",
   "metadata": {},
   "outputs": [
    {
     "data": {
      "text/plain": [
       "<reversed at 0x273c79126d0>"
      ]
     },
     "execution_count": 131,
     "metadata": {},
     "output_type": "execute_result"
    }
   ],
   "source": [
    "reversed(s)"
   ]
  },
  {
   "cell_type": "code",
   "execution_count": 132,
   "id": "ad6ed4dc",
   "metadata": {},
   "outputs": [
    {
     "data": {
      "text/plain": [
       "'idndedudrdodn'"
      ]
     },
     "execution_count": 132,
     "metadata": {},
     "output_type": "execute_result"
    }
   ],
   "source": [
    "'d'.join(\"ineuron\")"
   ]
  },
  {
   "cell_type": "code",
   "execution_count": 134,
   "id": "2c217733",
   "metadata": {},
   "outputs": [
    {
     "data": {
      "text/plain": [
       "'aymuohs'"
      ]
     },
     "execution_count": 134,
     "metadata": {},
     "output_type": "execute_result"
    }
   ],
   "source": [
    "\"\".join(reversed(\"shoumya\"))"
   ]
  },
  {
   "cell_type": "code",
   "execution_count": 135,
   "id": "f8a64945",
   "metadata": {},
   "outputs": [
    {
     "data": {
      "text/plain": [
       "False"
      ]
     },
     "execution_count": 135,
     "metadata": {},
     "output_type": "execute_result"
    }
   ],
   "source": [
    "s.isnumeric()"
   ]
  },
  {
   "cell_type": "code",
   "execution_count": 139,
   "id": "08a9d25a",
   "metadata": {},
   "outputs": [],
   "source": [
    "s = 'shoumya\\tpadhiary\\tineuron'"
   ]
  },
  {
   "cell_type": "code",
   "execution_count": 140,
   "id": "ded659e8",
   "metadata": {},
   "outputs": [
    {
     "data": {
      "text/plain": [
       "'shoumya padhiary        ineuron'"
      ]
     },
     "execution_count": 140,
     "metadata": {},
     "output_type": "execute_result"
    }
   ],
   "source": [
    "s.expandtabs()"
   ]
  },
  {
   "cell_type": "code",
   "execution_count": 138,
   "id": "6d71827f",
   "metadata": {},
   "outputs": [
    {
     "data": {
      "text/plain": [
       "'shoumya\\rpadhiary\\rineuron'"
      ]
     },
     "execution_count": 138,
     "metadata": {},
     "output_type": "execute_result"
    }
   ],
   "source": [
    "s.expandtabs()"
   ]
  },
  {
   "cell_type": "code",
   "execution_count": 141,
   "id": "df6c5148",
   "metadata": {},
   "outputs": [],
   "source": [
    "s = \"this is My First Python programming class and i am learNING python string and its function\""
   ]
  },
  {
   "cell_type": "code",
   "execution_count": 142,
   "id": "c89d2ed6",
   "metadata": {},
   "outputs": [
    {
     "data": {
      "text/plain": [
       "'this is my first python programming class and i am learning python string and its function'"
      ]
     },
     "execution_count": 142,
     "metadata": {},
     "output_type": "execute_result"
    }
   ],
   "source": [
    "s.lower()"
   ]
  },
  {
   "cell_type": "code",
   "execution_count": 143,
   "id": "a3a5aec0",
   "metadata": {},
   "outputs": [
    {
     "data": {
      "text/plain": [
       "'This is my first python programming class and i am learning python string and its function'"
      ]
     },
     "execution_count": 143,
     "metadata": {},
     "output_type": "execute_result"
    }
   ],
   "source": [
    "s.capitalize()"
   ]
  },
  {
   "cell_type": "code",
   "execution_count": 144,
   "id": "67d518a8",
   "metadata": {},
   "outputs": [
    {
     "data": {
      "text/plain": [
       "False"
      ]
     },
     "execution_count": 144,
     "metadata": {},
     "output_type": "execute_result"
    }
   ],
   "source": [
    "s.isalnum()"
   ]
  },
  {
   "cell_type": "code",
   "execution_count": 145,
   "id": "559e6b44",
   "metadata": {},
   "outputs": [
    {
     "data": {
      "text/plain": [
       "False"
      ]
     },
     "execution_count": 145,
     "metadata": {},
     "output_type": "execute_result"
    }
   ],
   "source": [
    "s.isalpha()"
   ]
  },
  {
   "cell_type": "code",
   "execution_count": 146,
   "id": "61cc2193",
   "metadata": {},
   "outputs": [
    {
     "data": {
      "text/plain": [
       "'this is My First Python programming class and i am learNING python string and its function'"
      ]
     },
     "execution_count": 146,
     "metadata": {},
     "output_type": "execute_result"
    }
   ],
   "source": [
    "s.strip()"
   ]
  },
  {
   "cell_type": "code",
   "execution_count": 147,
   "id": "25ab7b5a",
   "metadata": {},
   "outputs": [
    {
     "data": {
      "text/plain": [
       "'this is My First Python programming class and i am learNING python string and its function'"
      ]
     },
     "execution_count": 147,
     "metadata": {},
     "output_type": "execute_result"
    }
   ],
   "source": [
    "s.lstrip()"
   ]
  },
  {
   "cell_type": "code",
   "execution_count": 148,
   "id": "522bcb7a",
   "metadata": {},
   "outputs": [
    {
     "data": {
      "text/plain": [
       "'this is My First Python programming class and i am learNING python string and its function'"
      ]
     },
     "execution_count": 148,
     "metadata": {},
     "output_type": "execute_result"
    }
   ],
   "source": [
    "s.rstrip()"
   ]
  },
  {
   "cell_type": "code",
   "execution_count": null,
   "id": "409ab063",
   "metadata": {},
   "outputs": [],
   "source": []
  }
 ],
 "metadata": {
  "kernelspec": {
   "display_name": "Python 3 (ipykernel)",
   "language": "python",
   "name": "python3"
  },
  "language_info": {
   "codemirror_mode": {
    "name": "ipython",
    "version": 3
   },
   "file_extension": ".py",
   "mimetype": "text/x-python",
   "name": "python",
   "nbconvert_exporter": "python",
   "pygments_lexer": "ipython3",
   "version": "3.9.7"
  }
 },
 "nbformat": 4,
 "nbformat_minor": 5
}
